{
  "nbformat": 4,
  "nbformat_minor": 0,
  "metadata": {
    "colab": {
      "name": "Test01_git.ipynb",
      "provenance": [],
      "collapsed_sections": [],
      "authorship_tag": "ABX9TyNGn+njOMq6a7Gwzwxt0a/7",
      "include_colab_link": true
    },
    "kernelspec": {
      "name": "python3",
      "display_name": "Python 3"
    },
    "language_info": {
      "name": "python"
    }
  },
  "cells": [
    {
      "cell_type": "markdown",
      "metadata": {
        "id": "view-in-github",
        "colab_type": "text"
      },
      "source": [
        "<a href=\"https://colab.research.google.com/github/fabrice-camus/test01/blob/main/Test01_git.ipynb\" target=\"_parent\"><img src=\"https://colab.research.google.com/assets/colab-badge.svg\" alt=\"Open In Colab\"/></a>"
      ]
    },
    {
      "cell_type": "markdown",
      "source": [
        "Test 01\n",
        "Création d'un notebook\n",
        "Sauvegarde dans GitHub"
      ],
      "metadata": {
        "id": "nkjexJ8YeP8R"
      }
    },
    {
      "cell_type": "markdown",
      "source": [
        "[![Open In Colab](https://colab.research.google.com/assets/colab-badge.svg)](https://colab.research.google.com/github/googlecolab/colabtools/blob/master/notebooks/colab-github-demo.ipynb)\n"
      ],
      "metadata": {
        "id": "8JPwweuXVS4f"
      }
    },
    {
      "cell_type": "code",
      "execution_count": null,
      "metadata": {
        "colab": {
          "base_uri": "https://localhost:8080/"
        },
        "id": "X0ThFwjoeH90",
        "outputId": "74bc0964-e0a9-4cf7-aa2d-41e9a5de5712"
      },
      "outputs": [
        {
          "output_type": "stream",
          "name": "stdout",
          "text": [
            "test 01 - GitHub\n"
          ]
        }
      ],
      "source": [
        "print('test 01 - GitHub')"
      ]
    },
    {
      "cell_type": "code",
      "source": [
        "%cd discreteVAE"
      ],
      "metadata": {
        "colab": {
          "base_uri": "https://localhost:8080/"
        },
        "id": "_Fb9QlANltvw",
        "outputId": "e5e6a271-719a-4ff4-e4de-31e35d55e13a"
      },
      "execution_count": null,
      "outputs": [
        {
          "output_type": "stream",
          "name": "stdout",
          "text": [
            "/content/discreteVAE\n"
          ]
        }
      ]
    },
    {
      "cell_type": "code",
      "source": [
        "\n",
        "!bash beta_script.sh"
      ],
      "metadata": {
        "colab": {
          "base_uri": "https://localhost:8080/"
        },
        "id": "mkTxoPyYlVYD",
        "outputId": "2f1bd290-2b46-41d7-dc38-bb9c45879541"
      },
      "execution_count": null,
      "outputs": [
        {
          "output_type": "stream",
          "name": "stdout",
          "text": [
            "Traceback (most recent call last):\n",
            "  File \"main_beta_vae.py\", line 5, in <module>\n",
            "    config = tf.ConfigProto()\n",
            "AttributeError: module 'tensorflow' has no attribute 'ConfigProto'\n",
            "Traceback (most recent call last):\n",
            "  File \"main_beta_vae.py\", line 5, in <module>\n",
            "    config = tf.ConfigProto()\n",
            "AttributeError: module 'tensorflow' has no attribute 'ConfigProto'\n",
            "Traceback (most recent call last):\n",
            "  File \"beta_script.py\", line 46, in <module>\n",
            "    main(args)\n",
            "  File \"beta_script.py\", line 27, in main\n",
            "    \"--beta\", str(beta)])\n",
            "  File \"/usr/lib/python3.7/subprocess.py\", line 341, in call\n",
            "    return p.wait(timeout=timeout)\n",
            "  File \"/usr/lib/python3.7/subprocess.py\", line 1019, in wait\n",
            "    return self._wait(timeout=timeout)\n",
            "  File \"/usr/lib/python3.7/subprocess.py\", line 1653, in _wait\n",
            "    (pid, sts) = self._try_wait(0)\n",
            "  File \"/usr/lib/python3.7/subprocess.py\", line 1611, in _try_wait\n",
            "    (pid, sts) = os.waitpid(self.pid, wait_flags)\n",
            "KeyboardInterrupt\n"
          ]
        }
      ]
    }
  ]
}